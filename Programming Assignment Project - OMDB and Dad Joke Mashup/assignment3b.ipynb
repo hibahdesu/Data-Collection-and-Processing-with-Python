{
 "cells": [
  {
   "cell_type": "markdown",
   "id": "e9fb1f6f",
   "metadata": {
    "deletable": false,
    "editable": false,
    "nbgrader": {
     "cell_type": "markdown",
     "checksum": "585787091e1e4cc5c29c4455cd741147",
     "grade": false,
     "grade_id": "cell-1147e966375cbcbd",
     "locked": true,
     "schema_version": 3,
     "solution": false,
     "task": false
    }
   },
   "source": [
    "# Final Project for Course 3 - OMDb and Dad Jokes Mashup"
   ]
  },
  {
   "cell_type": "markdown",
   "id": "a9403665",
   "metadata": {
    "deletable": false,
    "editable": false,
    "nbgrader": {
     "cell_type": "markdown",
     "checksum": "e244d094f19e1e6339b1a31e33c42927",
     "grade": false,
     "grade_id": "cell-e7072e501f48b813",
     "locked": true,
     "schema_version": 3,
     "solution": false,
     "task": false
    }
   },
   "source": [
    "This project will take you through the process of mashing up data from two different APIs.  \n",
    "\n",
    "[The OMDb API](https://www.omdbapi.com/) lets you provide a movie title as a query input and get back data about the movie, including scores from various review sites (Rotten Tomatoes, IMDb, etc.).\n",
    "\n",
    "[icanhazdadjokes.com](https://icanhazdadjoke.com/) returns random dad jokes containing a search string that you specify in your query.\n",
    "\n",
    "The end result of this project will be a function that takes in a movie title as input and produces a formatted text string that includes a couple dad jokes related to a word from the movie's plot.\n",
    "\n",
    "For example, here are a couple of sample outputs:\n",
    "\n",
    "---\n",
    "\n",
    "```\n",
    "Baby Mama\n",
    "Rotten Tomatoes rating: 63%\n",
    "A successful, single businesswoman who dreams of having a baby discovers she is infertile and hires a **working** class woman to be her unlikely surrogate.\n",
    "Speaking of **working**, that reminds me of some jokes.\n",
    "Hope they're better than the movie!\n",
    "\n",
    "Want to hear a joke about construction? Nah, I'm still **working** on it.\n",
    "Why doesn't the Chimney-Sweep call out sick from work? Because he's used to **working** with a flue.\n",
    "```\n",
    "\n",
    "---\n",
    "\n",
    "```\n",
    "Back to the Future\n",
    "Rotten Tomatoes rating: 93%\n",
    "Marty McFly, a 17-year-old high school student, is **accidentally** sent 30 years into the past in a time-traveling DeLorean invented by his close friend, the maverick scientist Doc Brown.\n",
    "Speaking of **accidentally**, that reminds me of some jokes.\n",
    "Hope they're as good as the movie!\n",
    "\n",
    "I **accidentally** drank a bottle of invisible ink. Now I’m in hospital, waiting to be seen.\n",
    "A butcher **accidentally** backed into his meat grinder and got a little behind in his work that day.\n",
    "```\n",
    "---\n",
    "\n",
    "\n",
    "To avoid problems with rate limits and site accessibility, we have provided a cache file with results for all the queries you need to make to both OMDb and icanhazdadjokes. Just use `requests_with_caching.get()` rather than `requests.get()`. If you're having trouble, you may not be formatting your queries properly, or you may not be asking for data that exists in our cache. We will try to provide as much information as we can to help guide you to form queries for which data exists in the cache.\n",
    "\n",
    "## ALERT: All Query Results Should Be Found in the Cache File\n",
    "If you ever run `requests_with_caching.get()` and it says either of the following, then **something was wrong** with your query:\n",
    "- new; adding to cache\n",
    "- found in page-specific cache\n"
   ]
  },
  {
   "cell_type": "code",
   "execution_count": 1,
   "id": "51f37026",
   "metadata": {
    "deletable": false,
    "editable": false,
    "nbgrader": {
     "cell_type": "code",
     "checksum": "b88b91054ebb0dbb23f30ec4ee1c25b2",
     "grade": false,
     "grade_id": "cell-dd0343668cbe5314",
     "locked": true,
     "schema_version": 3,
     "solution": false,
     "task": false
    },
    "tags": []
   },
   "outputs": [],
   "source": [
    "import requests_with_caching"
   ]
  },
  {
   "cell_type": "code",
   "execution_count": 16,
   "id": "4c33086a-25da-4c77-8a3b-d4d228c87f9d",
   "metadata": {
    "tags": []
   },
   "outputs": [],
   "source": [
    "import requests_with_caching\n",
    "import json\n",
    "import re\n",
    "\n",
    "# Helper function to highlight the joke keyword\n",
    "# def highlight(word: str, sentence: str) -> str:\n",
    "#     return re.sub(re.escape(word), f\"**{word}**\", sentence, flags=re.IGNORECASE)\n"
   ]
  },
  {
   "cell_type": "code",
   "execution_count": 17,
   "id": "1bec4abe",
   "metadata": {
    "deletable": false,
    "editable": false,
    "nbgrader": {
     "cell_type": "code",
     "checksum": "29443891fb93abc6599298219d89c488",
     "grade": false,
     "grade_id": "cell-66c3452dd2194fd7",
     "locked": true,
     "schema_version": 3,
     "solution": false,
     "task": false
    },
    "tags": []
   },
   "outputs": [],
   "source": [
    "apikey = \"abcd1234\"  # you may *optionally* replace this with your API key.\n",
    "# Note: you do *not* need an API key to complete this assignment. Every request should be in the cache\n",
    "requests_with_caching.clear_cache()\n",
    "# print(list(requests_with_caching.perm_cache().keys()))"
   ]
  },
  {
   "cell_type": "markdown",
   "id": "ae48646f",
   "metadata": {
    "deletable": false,
    "editable": false,
    "nbgrader": {
     "cell_type": "markdown",
     "checksum": "dcd5d51ff293b8a378aec8358a6ec951",
     "grade": false,
     "grade_id": "cell-a336eb2d66ca5ad2",
     "locked": true,
     "schema_version": 3,
     "solution": false,
     "task": false
    }
   },
   "source": [
    "# Fetching movie info from OMDb\n",
    "Your first task will be to fetch data from OMDb. The documentation for the API is at [https://www.omdbapi.com/](https://www.omdbapi.com/)\n",
    "\n",
    "Define a function called `get_movie_data`. It takes in one parameter which is a string that should represent the title of a movie you want to search. The function should return a dictionary with information about that movie.\n",
    "\n",
    "Again, use `requests_with_caching.get()`. If you were to use the live OMDP API, you would need to get an API key, as described in the documentation. However **you do not need an API key** to complete this assignment. For the queries on movies that are already in the permanent cache, you won’t need an API key. \n",
    "\n",
    "HINT: Be sure to include **only** keys `t` and `r` as query parameters in order to extract data from the cache. If any other parameters are included,  the function will not be able to recognize the data that you're attempting to pull from the cache.\n",
    "\n",
    "The following movie titles are in the cache:\n",
    "- Black Panther\n",
    "- Venom\n",
    "- Baby Mama\n",
    "- Sherlock Holmes\n",
    "- Return of the Jedi\n",
    "- Back to the Future"
   ]
  },
  {
   "cell_type": "code",
   "execution_count": 18,
   "id": "2534ddb1",
   "metadata": {
    "deletable": false,
    "nbgrader": {
     "cell_type": "code",
     "checksum": "aa1feac37201b0b26baa50033f106ae3",
     "grade": false,
     "grade_id": "cell-c15d5bfaf933109d",
     "locked": false,
     "schema_version": 3,
     "solution": true,
     "task": false
    },
    "tags": []
   },
   "outputs": [],
   "source": [
    "# NOTE: the OMDb API uses http:// instead of https://\n",
    "def get_movie_data(name: str) -> dict:\n",
    "    \"\"\"Returns a dictionary of movie information from the OMDb API.\n",
    "\n",
    "    Parameters\n",
    "    ----------\n",
    "    name : str\n",
    "        The name of the movie to search for.\n",
    "\n",
    "    Returns\n",
    "    -------\n",
    "    dict\n",
    "        A dictionary of movie information.\n",
    "    \"\"\"\n",
    "\n",
    "\n",
    "\n",
    "\n",
    "def get_movie_data(name: str) -> dict:\n",
    "    \"\"\"Returns a dictionary of movie information from the OMDb API.\"\"\"\n",
    "    url = \"http://www.omdbapi.com/\"\n",
    "    params = {\"t\": name, \"r\": \"json\"}\n",
    "    response = requests_with_caching.get(url, params=params)\n",
    "    return response.json()"
   ]
  },
  {
   "cell_type": "code",
   "execution_count": 19,
   "id": "9925d59f",
   "metadata": {
    "tags": []
   },
   "outputs": [
    {
     "name": "stdout",
     "output_type": "stream",
     "text": [
      "found in permanent_cache\n",
      "found in permanent_cache\n",
      "{'Title': 'Venom', 'Year': '2018', 'Rated': 'PG-13', 'Released': '05 Oct 2018', 'Runtime': '112 min', 'Genre': 'Action, Adventure, Sci-Fi', 'Director': 'Ruben Fleischer', 'Writer': 'Jeff Pinkner, Scott Rosenberg, Kelly Marcel', 'Actors': 'Tom Hardy, Michelle Williams, Riz Ahmed', 'Plot': 'A failed reporter is bonded to an alien entity, one of many symbiotes who have invaded Earth. But the being takes a liking to Earth and decides to protect it.', 'Language': 'English, Mandarin, Malay', 'Country': 'United States, China', 'Awards': '2 wins & 9 nominations', 'Poster': 'https://m.media-amazon.com/images/M/MV5BNTFkZjdjN2QtOGE5MS00ZTgzLTgxZjAtYzkyZWQ5MjEzYmZjXkEyXkFqcGdeQXVyMTM0NTUzNDIy._V1_SX300.jpg', 'Ratings': [{'Source': 'Internet Movie Database', 'Value': '6.6/10'}, {'Source': 'Rotten Tomatoes', 'Value': '30%'}, {'Source': 'Metacritic', 'Value': '35/100'}], 'Metascore': '35', 'imdbRating': '6.6', 'imdbVotes': '537,584', 'imdbID': 'tt1270797', 'Type': 'movie', 'DVD': '18 Jun 2019', 'BoxOffice': '$213,515,506', 'Production': 'N/A', 'Website': 'N/A', 'Response': 'True'}\n",
      "found in permanent_cache\n",
      "{'Title': 'Baby Mama', 'Year': '2008', 'Rated': 'PG-13', 'Released': '25 Apr 2008', 'Runtime': '99 min', 'Genre': 'Comedy, Romance', 'Director': 'Michael McCullers', 'Writer': 'Michael McCullers', 'Actors': 'Tina Fey, Amy Poehler, Sigourney Weaver', 'Plot': 'A successful, single businesswoman who dreams of having a baby discovers she is infertile and hires a working class woman to be her unlikely surrogate.', 'Language': 'English', 'Country': 'United States', 'Awards': '1 win & 5 nominations', 'Poster': 'https://m.media-amazon.com/images/M/MV5BMTYwNTc1Nzk1N15BMl5BanBnXkFtZTcwNjE4OTI2MQ@@._V1_SX300.jpg', 'Ratings': [{'Source': 'Internet Movie Database', 'Value': '6.0/10'}, {'Source': 'Rotten Tomatoes', 'Value': '63%'}, {'Source': 'Metacritic', 'Value': '55/100'}], 'Metascore': '55', 'imdbRating': '6.0', 'imdbVotes': '47,199', 'imdbID': 'tt0871426', 'Type': 'movie', 'DVD': '15 Jun 2012', 'BoxOffice': '$60,494,212', 'Production': 'N/A', 'Website': 'N/A', 'Response': 'True'}\n",
      "{'Title': 'Black Panther', 'Year': '2018', 'Rated': 'PG-13', 'Released': '16 Feb 2018', 'Runtime': '134 min', 'Genre': 'Action, Adventure, Sci-Fi', 'Director': 'Ryan Coogler', 'Writer': 'Ryan Coogler, Joe Robert Cole, Stan Lee', 'Actors': \"Chadwick Boseman, Michael B. Jordan, Lupita Nyong'o\", 'Plot': \"T'Challa, heir to the hidden but advanced kingdom of Wakanda, must step forward to lead his people into a new future and must confront a challenger from his country's past.\", 'Language': 'English, Swahili, Nama, Xhosa, Korean', 'Country': 'United States', 'Awards': 'Won 3 Oscars. 123 wins & 289 nominations total', 'Poster': 'https://m.media-amazon.com/images/M/MV5BMTg1MTY2MjYzNV5BMl5BanBnXkFtZTgwMTc4NTMwNDI@._V1_SX300.jpg', 'Ratings': [{'Source': 'Internet Movie Database', 'Value': '7.3/10'}, {'Source': 'Rotten Tomatoes', 'Value': '96%'}, {'Source': 'Metacritic', 'Value': '88/100'}], 'Metascore': '88', 'imdbRating': '7.3', 'imdbVotes': '837,583', 'imdbID': 'tt1825683', 'Type': 'movie', 'DVD': '02 May 2018', 'BoxOffice': '$700,426,566', 'Production': 'N/A', 'Website': 'N/A', 'Response': 'True'}\n"
     ]
    }
   ],
   "source": [
    "results = get_movie_data(\"Black Panther\")\n",
    "assert type(results) == type({})\n",
    "assert results[\"Year\"] == \"2018\"\n",
    "\n",
    "# some other invocations that we use in the automated tests; uncomment these if you are getting errors and want better error messages\n",
    "print(get_movie_data(\"Venom\"))\n",
    "print(get_movie_data(\"Baby Mama\"))\n",
    "print(results)"
   ]
  },
  {
   "cell_type": "code",
   "execution_count": null,
   "id": "c00368f0",
   "metadata": {
    "deletable": false,
    "editable": false,
    "nbgrader": {
     "cell_type": "code",
     "checksum": "2f682315afcb66205be1378ef202de10",
     "grade": true,
     "grade_id": "cell-2bf30385787a27c6",
     "locked": true,
     "points": 1,
     "schema_version": 3,
     "solution": false,
     "task": false
    }
   },
   "outputs": [],
   "source": []
  },
  {
   "cell_type": "markdown",
   "id": "6986c72e",
   "metadata": {
    "deletable": false,
    "editable": false,
    "nbgrader": {
     "cell_type": "markdown",
     "checksum": "8572e7031319e9d487e7d1685a35d280",
     "grade": false,
     "grade_id": "cell-e4dcbc9b7b289e34",
     "locked": true,
     "schema_version": 3,
     "solution": false,
     "task": false
    }
   },
   "source": [
    "## Extract the Rotten Tomatoes Rating for a Movie\n",
    "Next, you will write a function that extracts the Rotten Tomatoes rating for a movie from the results dictionary as an *integer*. If the movie does not have a Rotten Tomatoes rating, return `-1`.\n",
    "\n",
    "Fill in the template for the function below"
   ]
  },
  {
   "cell_type": "code",
   "execution_count": 20,
   "id": "1a849514",
   "metadata": {
    "deletable": false,
    "nbgrader": {
     "cell_type": "code",
     "checksum": "cf03c727c61eddef7e1d3941e4cb5fa2",
     "grade": false,
     "grade_id": "cell-db2e3b5784fb6f51",
     "locked": false,
     "schema_version": 3,
     "solution": true,
     "task": false
    },
    "tags": []
   },
   "outputs": [
    {
     "name": "stdout",
     "output_type": "stream",
     "text": [
      "found in permanent_cache\n"
     ]
    }
   ],
   "source": [
    "def rt_rating(movie_data: dict) -> int:\n",
    "    \"\"\"Returns the Rotten Tomatoes rating from a dictionary of movie information.\n",
    "\n",
    "    Parameters\n",
    "    ----------\n",
    "    movie_data : dict\n",
    "        A dictionary of movie information.\n",
    "\n",
    "    Returns\n",
    "    -------\n",
    "    int\n",
    "        The Rotten Tomatoes rating. For example, 75% would be returned as the integer 75.\n",
    "    \"\"\"\n",
    "\n",
    "\n",
    "\n",
    "def rt_rating(movie_data: dict) -> int:\n",
    "    \"\"\"Returns the Rotten Tomatoes rating from movie_data dictionary.\"\"\"\n",
    "    ratings = movie_data.get(\"Ratings\", [])\n",
    "    for rating in ratings:\n",
    "        if rating.get(\"Source\") == \"Rotten Tomatoes\":\n",
    "            # rating[\"Value\"] looks like \"96%\"\n",
    "            try:\n",
    "                return int(rating[\"Value\"].rstrip(\"%\"))\n",
    "            except:\n",
    "                return -1\n",
    "    return -1\n",
    "\n",
    "\n",
    "# We suggest that you write an assert statement to check the output of your function for the movie Black Panther. The autograder will check results for some other movies.\n",
    "results = get_movie_data(\"Black Panther\")\n",
    "assert rt_rating(results) == 96"
   ]
  },
  {
   "cell_type": "code",
   "execution_count": null,
   "id": "0e2ba4bf",
   "metadata": {
    "deletable": false,
    "editable": false,
    "nbgrader": {
     "cell_type": "code",
     "checksum": "5f8b58157f5d094d939ba31f5e710c1f",
     "grade": true,
     "grade_id": "cell-8da8bffba2e45c97",
     "locked": true,
     "points": 1,
     "schema_version": 3,
     "solution": false,
     "task": false
    }
   },
   "outputs": [],
   "source": []
  },
  {
   "cell_type": "markdown",
   "id": "d0b8db14",
   "metadata": {
    "deletable": false,
    "editable": false,
    "nbgrader": {
     "cell_type": "markdown",
     "checksum": "9c677799e45c6120ae13ba21a32a6d31",
     "grade": false,
     "grade_id": "cell-87365ca5b1f3b6fa",
     "locked": true,
     "schema_version": 3,
     "solution": false,
     "task": false
    }
   },
   "source": [
    "# Fetching Jokes\n",
    "Now you will use another API to fetch a couple of dad jokes related to a movie's plot.\n",
    "\n",
    "You will do this in two stages. First you'll implement a helper function that calls the API to get jokes, asking for jokes related to a single word.\n",
    "\n",
    "Then you'll use that helper function, calling it with the longest words from the plot summary until it finds one that there are jokes for.\n"
   ]
  },
  {
   "cell_type": "markdown",
   "id": "556e8f6b",
   "metadata": {
    "deletable": false,
    "editable": false,
    "nbgrader": {
     "cell_type": "markdown",
     "checksum": "f3de65021b34a715773eed589438b0e5",
     "grade": false,
     "grade_id": "cell-0cae38ac12dc8f35",
     "locked": true,
     "schema_version": 3,
     "solution": false,
     "task": false
    }
   },
   "source": [
    "## Search for Jokes Containing a Word\n",
    "To search for dad jokes, you'll be using the API for icanhazdadjokes. The documentation for the API is at [https://icanhazdadjoke.com/api](https://icanhazdadjoke.com/api)\n",
    "\n",
    "Define a function called `get_joke_data`. It takes in one parameter which is a string. The function should return a dictionary with information about **up to two** jokes that contain that string.\n",
    "\n",
    "Again, use `requests_with_caching.get()`. All the query results you need are already in the permanent cache.\n",
    "\n",
    "- Note 1: Be sure to include **only** keys `term` and `limit` as query parameters in order to extract data from the cache. If any other parameters are included, the function will not be able to recognize the data that you're attempting to pull from the cache.\n",
    "- Note 2: Use the `limit` parameter in the icanhazdadjokes API to limit it to two results (instead of slicing)"
   ]
  },
  {
   "cell_type": "code",
   "execution_count": 21,
   "id": "712c5a81",
   "metadata": {
    "deletable": false,
    "nbgrader": {
     "cell_type": "code",
     "checksum": "fdf916e24b04fb44aec10e01a62b58e0",
     "grade": false,
     "grade_id": "cell-16f7339f35226c3c",
     "locked": false,
     "schema_version": 3,
     "solution": true,
     "task": false
    },
    "tags": []
   },
   "outputs": [],
   "source": [
    "\n",
    "def get_joke_data(term: str) -> dict:\n",
    "    \"\"\"Returns up to two jokes containing the given term.\"\"\"\n",
    "    url = \"https://icanhazdadjoke.com/search\"\n",
    "    headers = {\"Accept\": \"application/json\"}\n",
    "    params = {\"term\": term, \"limit\": 2}\n",
    "    response = requests_with_caching.get(url, params=params, headers=headers)\n",
    "    return response.json()"
   ]
  },
  {
   "cell_type": "code",
   "execution_count": 22,
   "id": "b6261abf",
   "metadata": {
    "tags": []
   },
   "outputs": [
    {
     "name": "stdout",
     "output_type": "stream",
     "text": [
      "found in permanent_cache\n",
      "found in permanent_cache\n"
     ]
    }
   ],
   "source": [
    "assert (\n",
    "    len(get_joke_data(\"magic\")[\"results\"]) == 2\n",
    "), \"The correct number of jokes for 'magic' should be 2\"\n",
    "assert (\n",
    "    get_joke_data(\"magic\")[\"results\"][0][\"joke\"]\n",
    "    == \"What do you call a magician who has lost their magic? Ian.\"\n",
    ")"
   ]
  },
  {
   "cell_type": "code",
   "execution_count": 23,
   "id": "a2da4ca3-47ad-4437-afea-7957bca2cb2b",
   "metadata": {
    "tags": []
   },
   "outputs": [
    {
     "name": "stdout",
     "output_type": "stream",
     "text": [
      "found in permanent_cache\n"
     ]
    },
    {
     "data": {
      "text/plain": [
       "2"
      ]
     },
     "execution_count": 23,
     "metadata": {},
     "output_type": "execute_result"
    }
   ],
   "source": [
    "len(get_joke_data(\"magic\")[\"results\"])"
   ]
  },
  {
   "cell_type": "code",
   "execution_count": 24,
   "id": "3c3eb61d-7d82-4136-9925-7c9bf7b16b24",
   "metadata": {
    "tags": []
   },
   "outputs": [
    {
     "name": "stdout",
     "output_type": "stream",
     "text": [
      "found in permanent_cache\n"
     ]
    },
    {
     "data": {
      "text/plain": [
       "'What do you call a magician who has lost their magic? Ian.'"
      ]
     },
     "execution_count": 24,
     "metadata": {},
     "output_type": "execute_result"
    }
   ],
   "source": [
    "get_joke_data(\"magic\")[\"results\"][0][\"joke\"]"
   ]
  },
  {
   "cell_type": "code",
   "execution_count": null,
   "id": "1916c4aa",
   "metadata": {
    "deletable": false,
    "editable": false,
    "nbgrader": {
     "cell_type": "code",
     "checksum": "b6aee20b674691a06438d48f6087cb8c",
     "grade": true,
     "grade_id": "cell-4b8dd4186c96707e",
     "locked": true,
     "points": 1,
     "schema_version": 3,
     "solution": false,
     "task": false
    }
   },
   "outputs": [],
   "source": []
  },
  {
   "cell_type": "markdown",
   "id": "759b4e97",
   "metadata": {
    "deletable": false,
    "editable": false,
    "nbgrader": {
     "cell_type": "markdown",
     "checksum": "23050db2a7fcddefc0fde03e68c37c79",
     "grade": false,
     "grade_id": "cell-cea0b353b92f96ca",
     "locked": true,
     "schema_version": 3,
     "solution": false,
     "task": false
    }
   },
   "source": [
    "## Get Jokes for a Long Word from the Plot Description\n",
    "\n",
    "Now you'll define a function called `get_jokes`. It will extract the longest word from the plot and try to find jokes for it. If there aren't any, it will proceed to the next longest word, and so on, until it finds a word for which there are jokes. If there is more than one word of the same length, try words that are earlier in the description first (which `sorted` does by default, since it's \"stable\" and will only move things around the minimum necessary).\n",
    "\n",
    "We provide code that removes punctuation from the words in `plot` and assigns the result to the variable `words`. Your code should extend this by sorting `words` from longest to shortest and use the sorted list (and the `get_joke_data` function that you defined above) to find the longest word with associated jokes. If there are no words with associated jokes, your function should return the tuple `(None, None)`. If there is a word with associated jokes, your function should return a tuple with (1) the longest word with a joke and (2) a list of jokes associated with that word (as a list of strings)."
   ]
  },
  {
   "cell_type": "code",
   "execution_count": 25,
   "id": "8ee07e18",
   "metadata": {
    "deletable": false,
    "nbgrader": {
     "cell_type": "code",
     "checksum": "2160868817885e85c9bd634034d991d5",
     "grade": false,
     "grade_id": "cell-a2bb2ab6bc6d8d49",
     "locked": false,
     "schema_version": 3,
     "solution": true,
     "task": false
    },
    "tags": []
   },
   "outputs": [],
   "source": [
    "def get_jokes(plot: str, verbosity=0) -> tuple[str, list[str]]:\n",
    "    \"\"\"Returns a tuple containing the longest word for which jokes were found\n",
    "    and the joke itself. Break ties for longest word using the order in `plot`.\n",
    "    Make sure that you strip punctuation from the word before you search for a joke.\n",
    "\n",
    "    Parameters\n",
    "    ----------\n",
    "    plot : str\n",
    "        The plot of a movie.\n",
    "\n",
    "    verbosity : int (optional)\n",
    "        If 0, no output is printed. If 1, some output is printed about which words were tried.\n",
    "        Defaults to 0.\n",
    "\n",
    "    Returns\n",
    "    -------\n",
    "    tuple[str, list[str]]\n",
    "        A tuple containing the word that was used to search for a joke and a list of two joke strings.\n",
    "    \"\"\"\n",
    "\n",
    "    words = plot.split()  # split into separate words\n",
    "    words = [w.strip(\",.!;:\") for w in words]  # remove punctuation for each word\n",
    "\n",
    "    # WRITE YOUR CODE HERE\n",
    "\n",
    "\n",
    "def get_jokes(plot: str, verbosity=0) -> tuple[str, list[str]]:\n",
    "    words = plot.split()\n",
    "    words = [w.strip(\",.!;:\") for w in words]\n",
    "    sorted_words = sorted(words, key=lambda w: len(w), reverse=True)\n",
    "\n",
    "    for word in sorted_words:\n",
    "        if verbosity:\n",
    "            print(f\"Trying word: {word}\")\n",
    "        joke_data = get_joke_data(word)\n",
    "        jokes = [j[\"joke\"] for j in joke_data.get(\"results\", [])]\n",
    "        if len(jokes) >= 1:\n",
    "            return word, jokes\n",
    "    return (None, None)\n"
   ]
  },
  {
   "cell_type": "code",
   "execution_count": 26,
   "id": "c71b10df",
   "metadata": {
    "tags": []
   },
   "outputs": [
    {
     "name": "stdout",
     "output_type": "stream",
     "text": [
      "Trying word: dreams\n",
      "found in permanent_cache\n",
      "('dreams', [\"I'm tired of following my dreams. I'm just going to ask them where they are going and meet up with them later.\"])\n"
     ]
    }
   ],
   "source": [
    "# Test case 1: Plot with a word that has jokes\n",
    "plot = \"I had dreams of a cat.\"\n",
    "result = get_jokes(plot, 1)\n",
    "print(result)\n",
    "assert result[0] == \"dreams\"\n",
    "assert (\n",
    "    result[1][0]\n",
    "    == \"I'm tired of following my dreams. I'm just going to ask them where they are going and meet up with them later.\"\n",
    ")"
   ]
  },
  {
   "cell_type": "code",
   "execution_count": null,
   "id": "3252b170",
   "metadata": {
    "deletable": false,
    "editable": false,
    "nbgrader": {
     "cell_type": "code",
     "checksum": "5f8b65d03411e5b035cd929e55824bcc",
     "grade": true,
     "grade_id": "cell-1780db7471384246",
     "locked": true,
     "points": 1,
     "schema_version": 3,
     "solution": false,
     "task": false
    }
   },
   "outputs": [],
   "source": []
  },
  {
   "cell_type": "code",
   "execution_count": 27,
   "id": "9e77550f-97da-4a6e-a349-49fad94b1a32",
   "metadata": {
    "tags": []
   },
   "outputs": [
    {
     "name": "stdout",
     "output_type": "stream",
     "text": [
      "Trying word: Detective\n",
      "found in permanent_cache\n"
     ]
    },
    {
     "data": {
      "text/plain": [
       "('Detective',\n",
       " ['Why do ducks make great detectives? They always quack the case.'])"
      ]
     },
     "execution_count": 27,
     "metadata": {},
     "output_type": "execute_result"
    }
   ],
   "source": [
    "plot = \"Detective Sherlock Holmes and his stalwart partner Watson engage in a battle of wits and brawn with a nemesis whose plot is a threat to all of England.\"\n",
    "get_jokes(plot, verbosity=1)\n"
   ]
  },
  {
   "cell_type": "code",
   "execution_count": 28,
   "id": "c92b65ed-62c2-4cb4-b456-c0edaf42e2ed",
   "metadata": {
    "tags": []
   },
   "outputs": [
    {
     "name": "stdout",
     "output_type": "stream",
     "text": [
      "new; adding to cache\n"
     ]
    },
    {
     "data": {
      "text/plain": [
       "{'current_page': 1,\n",
       " 'limit': 2,\n",
       " 'next_page': 1,\n",
       " 'previous_page': 1,\n",
       " 'results': [{'id': 'X0wkGJtPKuc',\n",
       "   'joke': 'Why do ducks make great detectives? They always quack the case.'}],\n",
       " 'search_term': 'detective',\n",
       " 'status': 200,\n",
       " 'total_jokes': 1,\n",
       " 'total_pages': 1}"
      ]
     },
     "execution_count": 28,
     "metadata": {},
     "output_type": "execute_result"
    }
   ],
   "source": [
    "get_joke_data(\"detective\")\n"
   ]
  },
  {
   "cell_type": "markdown",
   "id": "ad6296a4",
   "metadata": {
    "deletable": false,
    "editable": false,
    "nbgrader": {
     "cell_type": "markdown",
     "checksum": "2010291a6da6ffc3e1cf40ffb3523032",
     "grade": false,
     "grade_id": "cell-08448895ec34e0ae",
     "locked": true,
     "schema_version": 3,
     "solution": false,
     "task": false
    }
   },
   "source": [
    "BONUS CHALLENGE (ungraded). If we had specified that ties should be broken by taking words in the alphabetic order rather than later, how could you have done that? Try writing a test and then implementing it!"
   ]
  },
  {
   "cell_type": "markdown",
   "id": "02640c96",
   "metadata": {
    "deletable": false,
    "editable": false,
    "nbgrader": {
     "cell_type": "markdown",
     "checksum": "661b55e4bb6510f0e6c72d206dbaed4b",
     "grade": false,
     "grade_id": "cell-9a2cbd7609271655",
     "locked": true,
     "schema_version": 3,
     "solution": false,
     "task": false
    }
   },
   "source": [
    "## Put it All Together\n",
    "\n",
    "Now put it all together to make the full app. Define a function, `haha_me`. It takes a movie name as input and verbosity and returns a text string that is meant to entertain the reader.\n",
    "\n",
    "We have provided a helper function, `highlight`, that highlights a string inside a larger string by wrapping it in asterisks (`*`). Try invoking it a few times to make sure you understand what it does, then figure out how it should be used based on the sample outputs in the assert statements.\n",
    "\n",
    "If the movie is not found in the OMDb API (using `get_movie_data`), return `\"No movie found: \"` followed by the movie title.\n",
    "\n",
    "If the movie is found, but there are no jokes (`get_jokes` returned `(None, None)`), return `\"I've got no jokes about this movie. It's too serious!\"`.\n",
    "\n",
    "If the movie and jokes are found, your function should return a string with each of the following on separate lines:\n",
    "- The name of the movie\n",
    "- `\"Rotten Tomatoes rating: XX%\"` (replacing `\"XX\"` with the actual Rotten Tomatoes rating)\n",
    "- The plot of the movie with the joke keyword highlighted (using the provided `highlight` function)\n",
    "- `\"Speaking of **YY**, that reminds me of some jokes.\"` (replacing `\"YY\"` with the joke keyword)\n",
    "- A different phrase about the jokes, depending on the Rotten Tomatoes rating:\n",
    "    - No Rotten Tomates Rating (meaning the rating is `-1`): `\"Hope you like them!\"`\n",
    "    - Rotten Tomatoes Rating below 70%: `\"Hope they're better than the movie!\"`\n",
    "    - Rotten Tomates 70%+: `\"Hope they're as good as the movie!\"`\n",
    "- *(an empty line)*\n",
    "- The list of jokes, separated by a newline (using `\"\\n\".join(...)`)\n",
    "\n",
    "For example, for Venom:\n",
    "```\n",
    "Venom\n",
    "Rotten Tomatoes rating: 30%\n",
    "A failed reporter is bonded to an alien entity, one of many symbiotes who have invaded **Earth**. But the being takes a liking to **Earth** and decides to protect it.\n",
    "Speaking of **Earth**, that reminds me of some jokes.\n",
    "Hope they're better than the movie!\n",
    "\n",
    "Astronomers got tired watching the moon go around the **Earth** for 24 hours. They decided to call it a day.\n",
    "The rotation of **Earth** really makes my day.\n",
    "```"
   ]
  },
  {
   "cell_type": "code",
   "execution_count": 29,
   "id": "e2c410a3",
   "metadata": {
    "deletable": false,
    "editable": false,
    "nbgrader": {
     "cell_type": "code",
     "checksum": "04c8bdab1a330d480493aeb322dd44dd",
     "grade": false,
     "grade_id": "cell-a7d5b8af6ee3fa80",
     "locked": true,
     "schema_version": 3,
     "solution": false,
     "task": false
    },
    "tags": []
   },
   "outputs": [],
   "source": [
    "def highlight(word: str, sentence: str) -> str:\n",
    "    \"\"\"\n",
    "    Highlights a specific word in a sentence by surrounding it with asterisks (**).\n",
    "    The highlighting is case-insensitive.\n",
    "\n",
    "    Args:\n",
    "        word (str): The word to be highlighted.\n",
    "        sentence (str): The sentence in which the word should be highlighted.\n",
    "\n",
    "    Returns:\n",
    "        str: The sentence with the specified word highlighted.\n",
    "    \"\"\"\n",
    "    import re\n",
    "\n",
    "    # Escape special characters in the word to treat it as a literal string\n",
    "    # Use re.sub() to replace the word with the highlighted version\n",
    "    # Use re.IGNORECASE flag to perform case-insensitive replacement\n",
    "    return re.sub(re.escape(word), f\"**{word}**\", sentence, flags=re.IGNORECASE)"
   ]
  },
  {
   "cell_type": "code",
   "execution_count": 30,
   "id": "a9daf6bf-c907-4aa8-93f9-36600165e773",
   "metadata": {
    "tags": []
   },
   "outputs": [],
   "source": [
    "def highlight(word: str, sentence: str) -> str:\n",
    "    \"\"\"\n",
    "    Highlights a specific word in a sentence by surrounding it with asterisks (**).\n",
    "    The highlighting is case-insensitive.\n",
    "\n",
    "    Args:\n",
    "        word (str): The word to be highlighted.\n",
    "        sentence (str): The sentence in which the word should be highlighted.\n",
    "\n",
    "    Returns:\n",
    "        str: The sentence with the specified word highlighted.\n",
    "    \"\"\"\n",
    "    import re\n",
    "\n",
    "    # Escape special characters in the word to treat it as a literal string\n",
    "    # Use re.sub() to replace the word with the highlighted version\n",
    "    # Use re.IGNORECASE flag to perform case-insensitive replacement\n",
    "    return re.sub(re.escape(word), f\"**{word}**\", sentence, flags=re.IGNORECASE)"
   ]
  },
  {
   "cell_type": "code",
   "execution_count": 31,
   "id": "91a8e4e5-9e38-417e-9bba-8c046ee59319",
   "metadata": {
    "tags": []
   },
   "outputs": [],
   "source": [
    "# def highlight(word: str, sentence: str) -> str:\n",
    "#     import re\n",
    "\n",
    "#     def repl(match):\n",
    "#         return f\"**{match.group(0)}**\"\n",
    "\n",
    "#     return re.sub(re.escape(word), repl, sentence, flags=re.IGNORECASE)\n",
    "\n",
    "\n",
    "def highlight(word: str, sentence: str) -> str:\n",
    "    return re.sub(re.escape(word), f\"**{word}**\", sentence, flags=re.IGNORECASE)"
   ]
  },
  {
   "cell_type": "code",
   "execution_count": 32,
   "id": "2941829f-b553-4eac-96fb-ad2fb9cddd15",
   "metadata": {
    "tags": []
   },
   "outputs": [],
   "source": [
    "# import re\n",
    "\n",
    "# def highlight(word: str, sentence: str) -> str:\n",
    "#     return re.sub(re.escape(word), f\"**{word}**\", sentence, flags=re.IGNORECASE)\n"
   ]
  },
  {
   "cell_type": "code",
   "execution_count": 33,
   "id": "d60305fe",
   "metadata": {
    "deletable": false,
    "nbgrader": {
     "cell_type": "code",
     "checksum": "da5e0c67561492923fff32805c586bd9",
     "grade": false,
     "grade_id": "cell-cdca3b42f4c176ff",
     "locked": false,
     "schema_version": 3,
     "solution": true,
     "task": false
    },
    "tags": []
   },
   "outputs": [],
   "source": [
    "# def haha_me(movie_title: str, verbosity=0) -> str:\n",
    "#     \"\"\"Returns a string containing a movie title, the Rotten Tomatoes rating, a plot summary,\n",
    "#     and two jokes about the movie. If no jokes are found, a message is returned instead.\n",
    "\n",
    "#     Parameters\n",
    "#     ----------\n",
    "#     movie_title : str\n",
    "#         The title of a movie.\n",
    "\n",
    "#     verbosity : int (optional)\n",
    "#         If 0, no output is printed. If 1, some output is printed about which plot words were tried.\n",
    "#         Defaults to 0.\n",
    "#     \"\"\"\n",
    "\n",
    "# def haha_me(movie_title: str, verbosity=0) -> str:\n",
    "#     movie_data = get_movie_data(movie_title)\n",
    "\n",
    "#     if movie_data.get(\"Response\") == \"False\":\n",
    "#         return f\"No movie found: {movie_title}\"\n",
    "\n",
    "#     rating = rt_rating(movie_data)\n",
    "#     plot = movie_data.get(\"Plot\", \"\")\n",
    "\n",
    "#     joke_word, jokes = get_jokes(plot, verbosity=verbosity)\n",
    "#     if joke_word is None:\n",
    "#         return \"I've got no jokes about this movie. It's too serious!\"\n",
    "\n",
    "#     lines = []\n",
    "#     lines.append(movie_title)\n",
    "#     lines.append(f\"Rotten Tomatoes rating: {rating}%\" if rating != -1 else \"Rotten Tomatoes rating: N/A\")\n",
    "\n",
    "#     # ✅ Highlight joke word in plot using highlight function\n",
    "#     lines.append(highlight(joke_word, plot))\n",
    "\n",
    "#     lines.append(f\"Speaking of **{joke_word}**, that reminds me of some jokes.\")\n",
    "    \n",
    "#     if rating == -1:\n",
    "#         lines.append(\"Hope you like them!\")\n",
    "#     elif rating < 70:\n",
    "#         lines.append(\"Hope they're better than the movie!\")\n",
    "#     else:\n",
    "#         lines.append(\"Hope they're as good as the movie!\")\n",
    "\n",
    "#     lines.append(\"\")  # blank line\n",
    "\n",
    "#     # ✅ Highlight joke word in jokes too\n",
    "#     highlighted_jokes = [highlight(joke_word, j) for j in jokes]\n",
    "#     lines.extend(highlighted_jokes)\n",
    "\n",
    "#     return \"\\n\".join(lines)\n",
    "\n"
   ]
  },
  {
   "cell_type": "code",
   "execution_count": 34,
   "id": "5a3550ae-8c1b-44cb-96b9-3bed0274e158",
   "metadata": {
    "tags": []
   },
   "outputs": [],
   "source": [
    "def haha_me(movie_title:str, verbosity=0)->str:\n",
    "    while get_movie_data(movie_title)[\"Response\"]!=\"False\":\n",
    "        rating=rt_rating(get_movie_data(movie_title))\n",
    "        plot=highlight(get_jokes(get_movie_data(movie_title)['Plot'])[0],get_movie_data(movie_title)['Plot'])\n",
    "        if rating==-1:\n",
    "            coment=\"Hope you like them!\"\n",
    "        elif rating<70:\n",
    "            coment=\"Hope they're better than the movie!\"\n",
    "        else:\n",
    "            coment=\"Hope they're as good as the movie!\"\n",
    "        jokes=\"\\n\".join(get_jokes(get_movie_data(movie_title)['Plot'])[1])\n",
    "        jokes_highlighted=highlight(get_jokes(get_movie_data(movie_title)['Plot'])[0],jokes)\n",
    "        if jokes==(None, None):\n",
    "            res= f\"{movie_title}\\n Rotten Tomatoes rating: {rating}%\\n {plot}\\nI've got no jokes about this movie. It's too serious!\"\n",
    "        else:\n",
    "            res= f\"{movie_title}\\nRotten Tomatoes rating: {rating}%\\n{plot}\\nSpeaking of **{get_jokes(get_movie_data(movie_title)['Plot'])[0]}**, that reminds me of some jokes.\\n{coment}\\n\\n{jokes_highlighted}\"\n",
    "        return res\n",
    "    res=f\"No movie found: {movie_title}\"\n",
    "    return res"
   ]
  },
  {
   "cell_type": "code",
   "execution_count": 35,
   "id": "e77119ee-2078-4159-9da7-0487cca654af",
   "metadata": {
    "tags": []
   },
   "outputs": [
    {
     "name": "stdout",
     "output_type": "stream",
     "text": [
      "found in permanent_cache\n",
      "found in permanent_cache\n",
      "found in permanent_cache\n",
      "found in permanent_cache\n",
      "found in permanent_cache\n",
      "found in permanent_cache\n",
      "found in permanent_cache\n",
      "found in permanent_cache\n",
      "found in permanent_cache\n",
      "found in permanent_cache\n",
      "found in permanent_cache\n",
      "found in permanent_cache\n",
      "found in permanent_cache\n",
      "found in permanent_cache\n",
      "found in permanent_cache\n",
      "found in permanent_cache\n",
      "found in permanent_cache\n",
      "found in permanent_cache\n",
      "found in permanent_cache\n",
      "found in permanent_cache\n",
      "found in permanent_cache\n",
      "found in permanent_cache\n",
      "found in permanent_cache\n",
      "found in permanent_cache\n",
      "found in permanent_cache\n",
      "found in permanent_cache\n",
      "found in permanent_cache\n",
      "found in permanent_cache\n",
      "found in permanent_cache\n",
      "found in permanent_cache\n",
      "found in permanent_cache\n",
      "found in permanent_cache\n",
      "found in permanent_cache\n",
      "found in permanent_cache\n",
      "found in permanent_cache\n",
      "found in permanent_cache\n",
      "found in permanent_cache\n",
      "found in permanent_cache\n",
      "found in permanent_cache\n",
      "\"Black Panther\\nRotten Tomatoes rating: 96%\\nT'Challa, heir to the hidden but advanced kingdom of Wakanda, must step **forward** to lead his people into a new future and must confront a challenger from his country's past.\\nSpeaking of **forward**, that reminds me of some jokes.\\nHope they're as good as the movie!\\n\\nSometimes I tuck my knees into my chest and lean **forward**.  That’s just how I roll.\\nWhy do scuba divers fall backwards into the water? Because if they fell **forward**s they’d still be in the boat.\"\n"
     ]
    }
   ],
   "source": [
    "print(repr(haha_me(\"Black Panther\")))\n"
   ]
  },
  {
   "cell_type": "code",
   "execution_count": 36,
   "id": "1c0133cd-5fb3-4458-88ca-28536a2d8765",
   "metadata": {
    "tags": []
   },
   "outputs": [
    {
     "name": "stdout",
     "output_type": "stream",
     "text": [
      "found in permanent_cache\n",
      "found in permanent_cache\n",
      "found in permanent_cache\n",
      "found in permanent_cache\n",
      "found in permanent_cache\n",
      "found in permanent_cache\n",
      "found in permanent_cache\n",
      "found in permanent_cache\n",
      "found in permanent_cache\n",
      "found in permanent_cache\n",
      "found in permanent_cache\n",
      "Sherlock Holmes\n",
      "Rotten Tomatoes rating: 70%\n",
      "**Detective** Sherlock Holmes and his stalwart partner Watson engage in a battle of wits and brawn with a nemesis whose plot is a threat to all of England.\n",
      "Speaking of **Detective**, that reminds me of some jokes.\n",
      "Hope they're as good as the movie!\n",
      "\n",
      "Why do ducks make great **Detective**s? They always quack the case.\n"
     ]
    }
   ],
   "source": [
    "print(haha_me(\"Sherlock Holmes\"))\n"
   ]
  },
  {
   "cell_type": "code",
   "execution_count": 37,
   "id": "b3e5f862",
   "metadata": {
    "tags": []
   },
   "outputs": [
    {
     "name": "stdout",
     "output_type": "stream",
     "text": [
      "found in permanent_cache\n",
      "found in permanent_cache\n",
      "found in permanent_cache\n",
      "found in permanent_cache\n",
      "found in permanent_cache\n",
      "found in permanent_cache\n",
      "found in permanent_cache\n",
      "found in permanent_cache\n",
      "found in permanent_cache\n",
      "found in permanent_cache\n",
      "found in permanent_cache\n",
      "found in permanent_cache\n",
      "found in permanent_cache\n",
      "found in permanent_cache\n",
      "found in permanent_cache\n",
      "found in permanent_cache\n",
      "found in permanent_cache\n",
      "found in permanent_cache\n",
      "found in permanent_cache\n",
      "found in permanent_cache\n",
      "found in permanent_cache\n",
      "found in permanent_cache\n",
      "found in permanent_cache\n",
      "found in permanent_cache\n",
      "found in permanent_cache\n",
      "found in permanent_cache\n",
      "found in permanent_cache\n",
      "found in permanent_cache\n",
      "found in permanent_cache\n",
      "found in permanent_cache\n",
      "found in permanent_cache\n",
      "found in permanent_cache\n",
      "found in permanent_cache\n",
      "found in permanent_cache\n",
      "found in permanent_cache\n",
      "found in permanent_cache\n",
      "found in permanent_cache\n",
      "found in permanent_cache\n",
      "found in permanent_cache\n"
     ]
    }
   ],
   "source": [
    "assert (haha_me(\"Black Panther\")\n",
    "    == \"\"\"Black Panther\n",
    "Rotten Tomatoes rating: 96%\n",
    "T'Challa, heir to the hidden but advanced kingdom of Wakanda, must step **forward** to lead his people into a new future and must confront a challenger from his country's past.\n",
    "Speaking of **forward**, that reminds me of some jokes.\n",
    "Hope they're as good as the movie!\n",
    "\n",
    "Sometimes I tuck my knees into my chest and lean **forward**.  That’s just how I roll.\n",
    "Why do scuba divers fall backwards into the water? Because if they fell **forward**s they’d still be in the boat.\"\"\"\n",
    ")"
   ]
  },
  {
   "cell_type": "code",
   "execution_count": null,
   "id": "3836b9b7",
   "metadata": {
    "deletable": false,
    "editable": false,
    "nbgrader": {
     "cell_type": "code",
     "checksum": "272762d08058da37a64bc0da2d2970cc",
     "grade": true,
     "grade_id": "cell-ad473a0e417360cf",
     "locked": true,
     "points": 1,
     "schema_version": 3,
     "solution": false,
     "task": false
    }
   },
   "outputs": [],
   "source": []
  },
  {
   "cell_type": "code",
   "execution_count": 38,
   "id": "845fac37-1dd7-4bcc-b91c-1155d5cbbc88",
   "metadata": {
    "tags": []
   },
   "outputs": [
    {
     "name": "stdout",
     "output_type": "stream",
     "text": [
      "found in permanent_cache\n",
      "found in permanent_cache\n",
      "found in permanent_cache\n",
      "found in permanent_cache\n",
      "found in permanent_cache\n",
      "found in permanent_cache\n",
      "found in permanent_cache\n",
      "found in permanent_cache\n",
      "found in permanent_cache\n",
      "found in permanent_cache\n",
      "found in permanent_cache\n",
      "Match: False\n"
     ]
    }
   ],
   "source": [
    "output = haha_me(\"Sherlock Holmes\")\n",
    "\n",
    "expected = \"\"\"Sherlock Holmes\n",
    "Rotten Tomatoes rating: 70%\n",
    "Detective Sherlock Holmes and his stalwart partner Watson engage in a battle of wits and brawn with a nemesis whose plot is a threat to all of England.\n",
    "Speaking of **Detective**, that reminds me of some jokes.\n",
    "Hope they're as good as the movie!\n",
    "\n",
    "Why do ducks make great **detective**s? They always quack the case.\"\"\"\n",
    "\n",
    "print(\"Match:\", output == expected)\n"
   ]
  },
  {
   "cell_type": "code",
   "execution_count": 39,
   "id": "19585010-352d-4fc8-9e39-81571db61669",
   "metadata": {
    "tags": []
   },
   "outputs": [
    {
     "name": "stdout",
     "output_type": "stream",
     "text": [
      "  Sherlock Holmes\n",
      "  Rotten Tomatoes rating: 70%\n",
      "- **Detective** Sherlock Holmes and his stalwart partner Watson engage in a battle of wits and brawn with a nemesis whose plot is a threat to all of England.\n",
      "? --         --\n",
      "\n",
      "+ Detective Sherlock Holmes and his stalwart partner Watson engage in a battle of wits and brawn with a nemesis whose plot is a threat to all of England.\n",
      "  Speaking of **Detective**, that reminds me of some jokes.\n",
      "  Hope they're as good as the movie!\n",
      "  \n",
      "- Why do ducks make great **Detective**s? They always quack the case.\n",
      "?                           ^\n",
      "\n",
      "+ Why do ducks make great **detective**s? They always quack the case.\n",
      "?                           ^\n",
      "\n"
     ]
    }
   ],
   "source": [
    "import difflib\n",
    "diffs = difflib.ndiff(output.splitlines(), expected.splitlines())\n",
    "print(\"\\n\".join(diffs))\n"
   ]
  },
  {
   "cell_type": "code",
   "execution_count": 40,
   "id": "0b6b497b-11ae-452c-9dec-a6bb751cae3b",
   "metadata": {
    "tags": []
   },
   "outputs": [
    {
     "name": "stdout",
     "output_type": "stream",
     "text": [
      "found in permanent_cache\n",
      "found in permanent_cache\n",
      "found in permanent_cache\n",
      "found in permanent_cache\n",
      "found in permanent_cache\n",
      "found in permanent_cache\n",
      "found in permanent_cache\n",
      "found in permanent_cache\n",
      "found in permanent_cache\n",
      "found in permanent_cache\n",
      "found in permanent_cache\n",
      "found in permanent_cache\n",
      "found in permanent_cache\n",
      "found in permanent_cache\n",
      "found in permanent_cache\n",
      "found in permanent_cache\n",
      "found in permanent_cache\n",
      "found in permanent_cache\n",
      "found in permanent_cache\n",
      "found in permanent_cache\n",
      "found in permanent_cache\n",
      "found in permanent_cache\n",
      "found in permanent_cache\n",
      "found in permanent_cache\n",
      "found in permanent_cache\n",
      "found in permanent_cache\n",
      "found in permanent_cache\n",
      "found in permanent_cache\n",
      "found in permanent_cache\n",
      "found in permanent_cache\n",
      "found in permanent_cache\n",
      "found in permanent_cache\n",
      "found in permanent_cache\n",
      "found in permanent_cache\n",
      "found in permanent_cache\n",
      "found in permanent_cache\n",
      "found in permanent_cache\n",
      "found in permanent_cache\n",
      "found in permanent_cache\n"
     ]
    },
    {
     "data": {
      "text/plain": [
       "True"
      ]
     },
     "execution_count": 40,
     "metadata": {},
     "output_type": "execute_result"
    }
   ],
   "source": [
    "(haha_me(\"Black Panther\")\n",
    "    == \"\"\"Black Panther\n",
    "Rotten Tomatoes rating: 96%\n",
    "T'Challa, heir to the hidden but advanced kingdom of Wakanda, must step **forward** to lead his people into a new future and must confront a challenger from his country's past.\n",
    "Speaking of **forward**, that reminds me of some jokes.\n",
    "Hope they're as good as the movie!\n",
    "\n",
    "Sometimes I tuck my knees into my chest and lean **forward**.  That’s just how I roll.\n",
    "Why do scuba divers fall backwards into the water? Because if they fell **forward**s they’d still be in the boat.\"\"\"\n",
    ")"
   ]
  },
  {
   "cell_type": "code",
   "execution_count": null,
   "id": "07a36126-4c53-46b8-8752-66f9fcf87491",
   "metadata": {},
   "outputs": [],
   "source": []
  },
  {
   "cell_type": "code",
   "execution_count": null,
   "id": "fd005088-c9a4-4478-8690-154eb850b7ec",
   "metadata": {},
   "outputs": [],
   "source": []
  }
 ],
 "metadata": {
  "kernelspec": {
   "display_name": "Python 3.11 (ipykernel)",
   "language": "python",
   "name": "python3"
  },
  "language_info": {
   "codemirror_mode": {
    "name": "ipython",
    "version": 3
   },
   "file_extension": ".py",
   "mimetype": "text/x-python",
   "name": "python",
   "nbconvert_exporter": "python",
   "pygments_lexer": "ipython3",
   "version": "3.11.9"
  }
 },
 "nbformat": 4,
 "nbformat_minor": 5
}
